{
  "cells": [
    {
      "cell_type": "markdown",
      "metadata": {
        "id": "view-in-github",
        "colab_type": "text"
      },
      "source": [
        "<a href=\"https://colab.research.google.com/github/Josefh-QM/InteligenceArtificial_NaiveBayes/blob/main/Recrear_un_coche.ipynb\" target=\"_parent\"><img src=\"https://colab.research.google.com/assets/colab-badge.svg\" alt=\"Open In Colab\"/></a>"
      ]
    },
    {
      "cell_type": "markdown",
      "metadata": {
        "id": "iIe6fM26O9bs"
      },
      "source": [
        "# Reacrear un Coche  \n",
        "## Plamteamiento del coche\n",
        "El coche robot es un vehículo autónomo controlado por un microcontrolador Arduino. Está equipado con varios sensores y actuadores para navegar y evitar obstáculos.\n",
        "\n",
        "## 1. Sensor de Distancia\n",
        "El sensor de distancia (por ejemplo, un sensor ultrasonido como el HC-SR04) mide la distancia entre el sensor y el objeto más cercano en una dirección específica. Esta información se utiliza para detectar la presencia de obstáculos y determinar su proximidad.\n",
        "\n",
        "## 2. Posición del Obstáculo\n",
        "La posición del obstáculo se determina a partir de las lecturas del sensor de distancia. Dependiendo de la configuración del sensor, la posición del obstáculo puede ser identificada en diferentes direcciones:\n",
        "\n",
        "Delante: Si el sensor está montado en la parte frontal del coche.\n",
        "Atrás: Si hay un sensor en la parte trasera.\n",
        "A los lados: Si hay sensores montados a los lados del coche.\n",
        "\n",
        "## 3. Girar\n",
        "El coche necesita tomar decisiones basadas en la posición del obstáculo. Las acciones que puede tomar incluyen:\n",
        "\n",
        "Girar a la izquierda: Si el obstáculo está a la derecha y el coche necesita evitarlo girando hacia la izquierda.\n",
        "Girar a la derecha: Si el obstáculo está a la izquierda y el coche necesita evitarlo girando hacia la derecha.\n",
        "Retroceder: Si el coche está demasiado cerca de un obstáculo, puede necesitar retroceder para evitar colisiones.\n",
        "Avanzar: Si no hay obstáculos en la trayectoria del coche, puede seguir avanzando.\n",
        "\n",
        "## 4. Dirección\n",
        "La dirección de movimiento del coche se determina con base en la decisión de giro:\n",
        "\n",
        "Avanzar: El coche sigue moviéndose hacia adelante.\n",
        "Girar a la izquierda: El coche gira en la dirección opuesta a la del obstáculo detectado en el lado derecho.\n",
        "Girar a la derecha: El coche gira en la dirección opuesta a la del obstáculo detectado en el lado izquierdo.\n",
        "Retroceder: El coche se mueve hacia atrás para evitar el obstáculo.\n",
        "\n",
        "\n",
        "# SECION METODOLOGICA\n",
        "## Instancia de la Red Neuronal:\n",
        "\n",
        "nn = NeuralNetwork([2, 3, 4], activation='tanh'): Crea una red neuronal con 2 neuronas en la capa de entrada, 3 neuronas en la capa oculta y 4 neuronas en la capa de salida. La función de activación utilizada es la tangente hiperbólica (tanh).\n",
        "\n",
        "## Entrenamiento de la Red Neuronal:\n",
        "\n",
        "nn.fit(X, y, learning_rate=0.03, epochs=40001): Entrena la red neuronal con los datos X y las etiquetas y. Se usa una tasa de aprendizaje de 0.03 y se realizan 40001 épocas de entrenamiento.\n",
        "\n",
        "## Función de Redondeo:\n",
        "\n",
        "def valNN(x): Define una función para redondear los valores predichos y convertirlos a enteros, asegurando que los resultados sean valores discretos.\n",
        "\n",
        "## Evaluación y Predicción:\n",
        "\n",
        "for e, target in zip(X, y): Itera sobre cada par de datos de entrada y sus correspondientes etiquetas esperadas.\n",
        "prediccion = nn.predict(e): Obtiene la predicción de la red neuronal para el dato de entrada e.\n",
        "print(\"X:\", e, \"esperado:\", target, \"obtenido:\", [valNN(p) for p in prediccion]): Imprime el dato de entrada, la etiqueta esperada y la predicción obtenida, redondeando las predicciones a enteros."
      ]
    },
    {
      "cell_type": "code",
      "execution_count": null,
      "metadata": {
        "id": "cbxrt1MbO9bv"
      },
      "outputs": [],
      "source": [
        "# importacion de librerias necesarias\n",
        "import torch\n",
        "import torch.nn as nn\n",
        "import torch.optim as optim\n",
        "import numpy as np\n",
        "\n"
      ]
    },
    {
      "cell_type": "code",
      "execution_count": null,
      "metadata": {
        "id": "qHFgy06lO9by"
      },
      "outputs": [],
      "source": [
        "\n",
        "# Definición de la clase NeuralNetwork que hereda de torch.nn.Module\n",
        "class NeuralNetwork(torch.nn.Module):\n",
        "    # Constructor de la clase\n",
        "    def __init__(self, layers, activation='tanh'):\n",
        "        # Llamada al constructor de la clase base\n",
        "        super(NeuralNetwork, self).__init__()\n",
        "\n",
        "        # Inicializa una lista para contener las capas de la red\n",
        "        self.layers = torch.nn.ModuleList()\n",
        "\n",
        "        # Crea las capas de la red neuronal según la estructura definida en `layers`\n",
        "        for i in range(1, len(layers)):\n",
        "            # Añade una capa lineal (totalmente conectada) a la lista de capas\n",
        "            self.layers.append(torch.nn.Linear(layers[i-1], layers[i]))\n",
        "\n",
        "        # Selecciona la función de activación en base al parámetro proporcionado\n",
        "        if activation == 'sigmoid':\n",
        "            self.activation = torch.nn.Sigmoid()\n",
        "        elif activation == 'tanh':\n",
        "            self.activation = torch.nn.Tanh()\n",
        "\n",
        "    # Método para pasar una entrada a través de la red (propagación hacia adelante)\n",
        "    def forward(self, x):\n",
        "        # Aplica cada capa y la función de activación a todas las capas excepto la última\n",
        "        for layer in self.layers[:-1]:\n",
        "            x = self.activation(layer(x))\n",
        "        # Aplica la última capa sin función de activación\n",
        "        x = self.layers[-1](x)\n",
        "        return x\n",
        "\n",
        "    # Método para entrenar la red neuronal\n",
        "    def fit(self, X, y, learning_rate=0.2, epochs=100000):\n",
        "        # Define la función de pérdida (error cuadrático medio)\n",
        "        criterion = torch.nn.MSELoss()\n",
        "        # Define el optimizador (descenso de gradiente estocástico)\n",
        "        optimizer = optim.SGD(self.parameters(), lr=learning_rate)\n",
        "\n",
        "        # Convierte los datos de entrada y salida en tensores de tipo Float\n",
        "        X = torch.FloatTensor(X)\n",
        "        y = torch.FloatTensor(y)\n",
        "\n",
        "        # Bucle de entrenamiento\n",
        "        for epoch in range(epochs):\n",
        "            # Pone a cero los gradientes acumulados\n",
        "            optimizer.zero_grad()\n",
        "            # Realiza la propagación hacia adelante para obtener las predicciones\n",
        "            outputs = self(X)\n",
        "            # Calcula la pérdida comparando las predicciones con los valores reales\n",
        "            loss = criterion(outputs, y)\n",
        "            # Calcula los gradientes de la pérdida\n",
        "            loss.backward()\n",
        "            # Actualiza los parámetros de la red neuronal\n",
        "            optimizer.step()\n",
        "\n",
        "            # Imprime el estado del entrenamiento cada 10000 épocas\n",
        "            if epoch % 10000 == 0:\n",
        "                print(f'epoch: {epoch}, loss: {loss.item()}')\n",
        "\n",
        "    # Método para hacer predicciones con la red neuronal\n",
        "    def predict(self, x):\n",
        "        # Desactiva el cálculo de gradientes ya que no es necesario para la predicción\n",
        "        with torch.no_grad():\n",
        "            # Convierte la entrada en un tensor de tipo Float\n",
        "            x = torch.FloatTensor(x)\n",
        "            # Realiza la propagación hacia adelante y convierte las predicciones a un array de NumPy\n",
        "            return self(x).numpy()\n"
      ]
    },
    {
      "cell_type": "code",
      "execution_count": null,
      "metadata": {
        "id": "Dq-hmiYjO9bz"
      },
      "outputs": [],
      "source": [
        "\n",
        "# Definición de los datos de entrada (X) para el modelo\n",
        "X = np.array([\n",
        "    [-1, 0],   # sin obstáculos\n",
        "    [-1, 1],   # sin obstáculos\n",
        "    [-1, -1],  # sin obstáculos\n",
        "    [0, -1],   # obstáculo detectado a la derecha\n",
        "    [0, 1],    # obstáculo a la izquierda\n",
        "    [0, 0],    # obstáculo en el centro\n",
        "    [1, 1],    # demasiado cerca a la derecha\n",
        "    [1, -1],   # demasiado cerca a la izquierda\n",
        "    [1, 0]     # demasiado cerca en el centro\n",
        "])\n",
        "\n",
        "# Definición de las etiquetas de salida (y) correspondientes a cada entrada en X\n",
        "y = np.array([\n",
        "    [1, 0, 0, 1], # avanzar\n",
        "    [1, 0, 0, 1], # avanzar\n",
        "    [1, 0, 0, 1], # avanzar\n",
        "    [0, 1, 0, 1], # giro a la derecha\n",
        "    [1, 0, 1, 0], # giro a la izquierda (se cambiaron izquierda y derecha en los comentarios)\n",
        "    [1, 0, 0, 1], # avanzar\n",
        "    [0, 1, 1, 0], # retroceder\n",
        "    [0, 1, 1, 0], # retroceder\n",
        "    [0, 1, 1, 0]  # retroceder\n",
        "])\n"
      ]
    },
    {
      "cell_type": "code",
      "execution_count": null,
      "metadata": {
        "colab": {
          "base_uri": "https://localhost:8080/"
        },
        "id": "dJ3e5SDSO9b0",
        "outputId": "7b85e694-ba63-47a4-df7d-f7286cdfdf0d"
      },
      "outputs": [
        {
          "output_type": "stream",
          "name": "stdout",
          "text": [
            "epoch: 0, loss: 1.2751439809799194\n",
            "epoch: 10000, loss: 0.013009816408157349\n",
            "epoch: 20000, loss: 0.006010393146425486\n",
            "epoch: 30000, loss: 0.002112950198352337\n",
            "epoch: 40000, loss: 0.0005535807576961815\n",
            "X: [-1  0] esperado: [1 0 0 1] obtenido: [1, 0, 0, 1]\n",
            "X: [-1  1] esperado: [1 0 0 1] obtenido: [1, 0, 0, 1]\n",
            "X: [-1 -1] esperado: [1 0 0 1] obtenido: [1, 0, 0, 1]\n",
            "X: [ 0 -1] esperado: [0 1 0 1] obtenido: [0, 1, 0, 1]\n",
            "X: [0 1] esperado: [1 0 1 0] obtenido: [1, 0, 1, 0]\n",
            "X: [0 0] esperado: [1 0 0 1] obtenido: [1, 0, 0, 1]\n",
            "X: [1 1] esperado: [0 1 1 0] obtenido: [0, 1, 1, 0]\n",
            "X: [ 1 -1] esperado: [0 1 1 0] obtenido: [0, 1, 1, 0]\n",
            "X: [1 0] esperado: [0 1 1 0] obtenido: [0, 1, 1, 0]\n"
          ]
        }
      ],
      "source": [
        "# Red Coche para Evitar obstáculos\n",
        "nn = NeuralNetwork([2, 3, 4], activation='tanh')\n",
        "\n",
        "nn.fit(X, y, learning_rate=0.03, epochs=40001)\n",
        "\n",
        "def valNN(x):\n",
        "    return (int)(abs(round(x)))\n",
        "\n",
        "for e, target in zip(X, y):\n",
        "    prediccion = nn.predict(e)\n",
        "    print(\"X:\", e, \"esperado:\", target, \"obtenido:\", [valNN(p) for p in prediccion])"
      ]
    },
    {
      "cell_type": "code",
      "execution_count": null,
      "metadata": {
        "colab": {
          "base_uri": "https://localhost:8080/"
        },
        "id": "6eQUHpbtO9b2",
        "outputId": "def936ec-c227-4da3-9fd7-83b8598767d9"
      },
      "outputs": [
        {
          "output_type": "stream",
          "name": "stdout",
          "text": [
            "epoch: 0, loss: 0.9518530368804932\n",
            "epoch: 10000, loss: 0.010472545400261879\n",
            "epoch: 20000, loss: 0.0057090348564088345\n",
            "epoch: 30000, loss: 0.004176711663603783\n",
            "epoch: 40000, loss: 0.003119145054370165\n",
            "X: [-1  0] esperado: [1 0 0 1] obtenido: [1, 0, 0, 1]\n",
            "X: [-1  1] esperado: [1 0 0 1] obtenido: [1, 0, 0, 1]\n",
            "X: [-1 -1] esperado: [1 0 0 1] obtenido: [1, 0, 0, 1]\n",
            "X: [ 0 -1] esperado: [0 1 0 1] obtenido: [0, 1, 0, 1]\n",
            "X: [0 1] esperado: [1 0 1 0] obtenido: [1, 0, 1, 0]\n",
            "X: [0 0] esperado: [1 0 0 1] obtenido: [1, 0, 0, 1]\n",
            "X: [1 1] esperado: [0 1 1 0] obtenido: [0, 1, 1, 0]\n",
            "X: [ 1 -1] esperado: [0 1 1 0] obtenido: [0, 1, 1, 0]\n",
            "X: [1 0] esperado: [0 1 1 0] obtenido: [0, 1, 1, 0]\n"
          ]
        }
      ],
      "source": [
        "# Red neuronal para el control de un coche y evitar obstáculos\n",
        "# Se crea una instancia de la red neuronal con 2 neuronas en la capa de entrada,\n",
        "# 3 neuronas en la capa oculta y 4 neuronas en la capa de salida. La función de activación usada es 'tanh'.\n",
        "nn = NeuralNetwork([2, 3, 4], activation='tanh')\n",
        "\n",
        "# Entrena la red neuronal utilizando los datos de entrada (X) y las etiquetas de salida (y)\n",
        "# Se utiliza una tasa de aprendizaje de 0.03 y se entrena durante 40001 épocas.\n",
        "nn.fit(X, y, learning_rate=0.03, epochs=40001)\n",
        "\n",
        "# Define una función para redondear los valores predichos y convertirlos a enteros\n",
        "# La función toma un valor, toma el valor absoluto, lo redondea y luego lo convierte a entero.\n",
        "def valNN(x):\n",
        "    return (int)(abs(round(x)))\n",
        "\n",
        "# Itera sobre cada par de datos de entrada (e) y sus correspondientes etiquetas esperadas (target)\n",
        "for e, target in zip(X, y):\n",
        "    # Realiza una predicción con la red neuronal para el dato de entrada actual (e)\n",
        "    prediccion = nn.predict(e)\n",
        "    # Imprime el dato de entrada, la etiqueta esperada y la predicción obtenida\n",
        "    # La predicción se redondea y convierte a enteros utilizando la función valNN\n",
        "    print(\"X:\", e, \"esperado:\", target, \"obtenido:\", [valNN(p) for p in prediccion])\n"
      ]
    },
    {
      "cell_type": "code",
      "execution_count": null,
      "metadata": {
        "id": "ni-7QajfO9b3"
      },
      "outputs": [],
      "source": []
    }
  ],
  "metadata": {
    "kernelspec": {
      "display_name": "Python 3",
      "language": "python",
      "name": "python3"
    },
    "language_info": {
      "codemirror_mode": {
        "name": "ipython",
        "version": 3
      },
      "file_extension": ".py",
      "mimetype": "text/x-python",
      "name": "python",
      "nbconvert_exporter": "python",
      "pygments_lexer": "ipython3",
      "version": "3.10.9"
    },
    "colab": {
      "provenance": [],
      "include_colab_link": true
    }
  },
  "nbformat": 4,
  "nbformat_minor": 0
}