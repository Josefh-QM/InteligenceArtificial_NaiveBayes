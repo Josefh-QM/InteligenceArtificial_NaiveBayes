{
 "cells": [
  {
   "cell_type": "markdown",
   "metadata": {},
   "source": [
    "## Coche robot arduino \n",
    "\n",
    "Sensor de distancia\n",
    "\n",
    "Posicion de obstaculo\n",
    "\n",
    "Girar \n",
    "\n",
    "Direccion"
   ]
  },
  {
   "cell_type": "code",
   "execution_count": 17,
   "metadata": {},
   "outputs": [],
   "source": [
    "import torch\n",
    "import torch.nn as nn\n",
    "import torch.optim as optim\n",
    "import numpy as np\n",
    "\n"
   ]
  },
  {
   "cell_type": "code",
   "execution_count": 23,
   "metadata": {},
   "outputs": [],
   "source": [
    "class NeuralNetwork(torch.nn.Module):\n",
    "    def __init__(self, layers, activation='tanh'):\n",
    "        super(NeuralNetwork, self).__init__()\n",
    "        \n",
    "        self.layers = torch.nn.ModuleList()\n",
    "        for i in range(1, len(layers)):\n",
    "            self.layers.append(torch.nn.Linear(layers[i-1], layers[i]))\n",
    "        \n",
    "        if activation == 'sigmoid':\n",
    "            self.activation = torch.nn.Sigmoid()\n",
    "        elif activation == 'tanh':\n",
    "            self.activation = torch.nn.Tanh()\n",
    "        \n",
    "    def forward(self, x):\n",
    "        for layer in self.layers[:-1]:\n",
    "            x = self.activation(layer(x))\n",
    "        x = self.layers[-1](x)\n",
    "        return x\n",
    "\n",
    "    def fit(self, X, y, learning_rate=0.2, epochs=100000):\n",
    "        criterion = torch.nn.MSELoss()\n",
    "        optimizer = optim.SGD(self.parameters(), lr=learning_rate)\n",
    "        \n",
    "        X = torch.FloatTensor(X)\n",
    "        y = torch.FloatTensor(y)\n",
    "        \n",
    "        for epoch in range(epochs):\n",
    "            optimizer.zero_grad()\n",
    "            outputs = self(X)\n",
    "            loss = criterion(outputs, y)\n",
    "            loss.backward()\n",
    "            optimizer.step()\n",
    "            \n",
    "            if epoch % 10000 == 0:\n",
    "                print(f'epoch: {epoch}, loss: {loss.item()}')\n",
    "\n",
    "    def predict(self, x):\n",
    "        with torch.no_grad():\n",
    "            x = torch.FloatTensor(x)\n",
    "            return self(x).numpy()\n",
    "\n"
   ]
  },
  {
   "cell_type": "code",
   "execution_count": 20,
   "metadata": {},
   "outputs": [],
   "source": [
    "X = np.array([[-1, 0],   # sin obstaculos\n",
    "              [-1, 1],   # sin obstaculos\n",
    "              [-1, -1],  # sin obstaculos\n",
    "              [0, -1],   # obstaculo detectado a derecha\n",
    "              [0,1],     # obstaculo a izq\n",
    "              [0,0],     # obstaculo centro\n",
    "              [1,1],     # demasiado cerca a derecha\n",
    "              [1,-1],    # demasiado cerca a izq\n",
    "              [1,0]      # demasiado cerca centro\n",
    "             ])\n",
    "\n",
    "y = np.array([[1,0,0,1], # avanzar\n",
    "              [1,0,0,1], # avanzar\n",
    "              [1,0,0,1], # avanzar\n",
    "              [0,1,0,1], # giro derecha\n",
    "              [1,0,1,0], # giro izquierda (cambie izq y derecha)\n",
    "              [1,0,0,1], # avanzar\n",
    "              [0,1,1,0], # retroceder\n",
    "              [0,1,1,0], # retroceder\n",
    "              [0,1,1,0]  # retroceder\n",
    "             ])"
   ]
  },
  {
   "cell_type": "code",
   "execution_count": 24,
   "metadata": {},
   "outputs": [
    {
     "name": "stdout",
     "output_type": "stream",
     "text": [
      "epoch: 0, loss: 0.6414896845817566\n",
      "epoch: 10000, loss: 0.013071496039628983\n",
      "epoch: 20000, loss: 0.006293568294495344\n",
      "epoch: 30000, loss: 0.003682381473481655\n",
      "epoch: 40000, loss: 0.002580396831035614\n",
      "X: [-1  0] esperado: [1 0 0 1] obtenido: [1, 0, 0, 1]\n",
      "X: [-1  1] esperado: [1 0 0 1] obtenido: [1, 0, 0, 1]\n",
      "X: [-1 -1] esperado: [1 0 0 1] obtenido: [1, 0, 0, 1]\n",
      "X: [ 0 -1] esperado: [0 1 0 1] obtenido: [0, 1, 0, 1]\n",
      "X: [0 1] esperado: [1 0 1 0] obtenido: [1, 0, 1, 0]\n",
      "X: [0 0] esperado: [1 0 0 1] obtenido: [1, 0, 0, 1]\n",
      "X: [1 1] esperado: [0 1 1 0] obtenido: [0, 1, 1, 0]\n",
      "X: [ 1 -1] esperado: [0 1 1 0] obtenido: [0, 1, 1, 0]\n",
      "X: [1 0] esperado: [0 1 1 0] obtenido: [0, 1, 1, 0]\n"
     ]
    }
   ],
   "source": [
    "# Red Coche para Evitar obstáculos\n",
    "nn = NeuralNetwork([2, 3, 4], activation='tanh')\n",
    "\n",
    "nn.fit(X, y, learning_rate=0.03, epochs=40001)\n",
    "\n",
    "def valNN(x):\n",
    "    return (int)(abs(round(x)))\n",
    "\n",
    "for e, target in zip(X, y):\n",
    "    prediccion = nn.predict(e)\n",
    "    print(\"X:\", e, \"esperado:\", target, \"obtenido:\", [valNN(p) for p in prediccion])"
   ]
  },
  {
   "cell_type": "code",
   "execution_count": 25,
   "metadata": {},
   "outputs": [
    {
     "name": "stdout",
     "output_type": "stream",
     "text": [
      "epoch: 0, loss: 0.7419712543487549\n",
      "epoch: 10000, loss: 0.033914655447006226\n",
      "epoch: 20000, loss: 0.018561162054538727\n",
      "epoch: 30000, loss: 0.014281411655247211\n",
      "epoch: 40000, loss: 0.011565815657377243\n",
      "X: [-1  0] esperado: [1 0 0 1] obtenido: [1, 0, 0, 1]\n",
      "X: [-1  1] esperado: [1 0 0 1] obtenido: [1, 0, 0, 1]\n",
      "X: [-1 -1] esperado: [1 0 0 1] obtenido: [1, 0, 0, 1]\n",
      "X: [ 0 -1] esperado: [0 1 0 1] obtenido: [0, 1, 0, 1]\n",
      "X: [0 1] esperado: [1 0 1 0] obtenido: [1, 0, 1, 0]\n",
      "X: [0 0] esperado: [1 0 0 1] obtenido: [1, 0, 0, 1]\n",
      "X: [1 1] esperado: [0 1 1 0] obtenido: [0, 1, 1, 0]\n",
      "X: [ 1 -1] esperado: [0 1 1 0] obtenido: [0, 1, 1, 0]\n",
      "X: [1 0] esperado: [0 1 1 0] obtenido: [0, 1, 1, 0]\n"
     ]
    }
   ],
   "source": [
    "# Red Coche para Evitar obstáculos\n",
    "nn = NeuralNetwork([2, 3, 4], activation='sigmoid')\n",
    "\n",
    "nn.fit(X, y, learning_rate=0.03, epochs=40001)\n",
    "\n",
    "def valNN(x):\n",
    "    return (int)(abs(round(x)))\n",
    "\n",
    "for e, target in zip(X, y):\n",
    "    prediccion = nn.predict(e)\n",
    "    print(\"X:\", e, \"esperado:\", target, \"obtenido:\", [valNN(p) for p in prediccion])"
   ]
  },
  {
   "cell_type": "code",
   "execution_count": null,
   "metadata": {},
   "outputs": [],
   "source": []
  }
 ],
 "metadata": {
  "kernelspec": {
   "display_name": "Python 3",
   "language": "python",
   "name": "python3"
  },
  "language_info": {
   "codemirror_mode": {
    "name": "ipython",
    "version": 3
   },
   "file_extension": ".py",
   "mimetype": "text/x-python",
   "name": "python",
   "nbconvert_exporter": "python",
   "pygments_lexer": "ipython3",
   "version": "3.10.9"
  }
 },
 "nbformat": 4,
 "nbformat_minor": 2
}
